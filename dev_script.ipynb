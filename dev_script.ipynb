{
 "cells": [
  {
   "cell_type": "code",
   "execution_count": 1,
   "metadata": {},
   "outputs": [],
   "source": [
    "from TrainCNN_quick import TrainCNN_quick"
   ]
  },
  {
   "cell_type": "code",
   "execution_count": 2,
   "metadata": {},
   "outputs": [
    {
     "name": "stderr",
     "output_type": "stream",
     "text": [
      "WARNING: Logging before flag parsing goes to stderr.\n",
      "W0717 00:27:15.506001 140735512384384 deprecation_wrapper.py:119] From /Users/williamwright/Google Drive/ucd_math_backup/Python/MNIST_CNN/TrainCNN_quick.py:11: The name tf.reset_default_graph is deprecated. Please use tf.compat.v1.reset_default_graph instead.\n",
      "\n",
      "W0717 00:27:15.508095 140735512384384 deprecation_wrapper.py:119] From /Users/williamwright/Google Drive/ucd_math_backup/Python/MNIST_CNN/TrainCNN_quick.py:12: The name tf.set_random_seed is deprecated. Please use tf.compat.v1.set_random_seed instead.\n",
      "\n",
      "W0717 00:27:15.535214 140735512384384 deprecation_wrapper.py:119] From /Users/williamwright/Google Drive/ucd_math_backup/Python/MNIST_CNN/TrainCNN_quick.py:56: The name tf.placeholder is deprecated. Please use tf.compat.v1.placeholder instead.\n",
      "\n",
      "W0717 00:27:15.546691 140735512384384 deprecation.py:323] From /Users/williamwright/Google Drive/ucd_math_backup/Python/MNIST_CNN/TrainCNN_quick.py:62: conv2d (from tensorflow.python.layers.convolutional) is deprecated and will be removed in a future version.\n",
      "Instructions for updating:\n",
      "Use `tf.keras.layers.Conv2D` instead.\n",
      "W0717 00:27:15.554346 140735512384384 deprecation.py:506] From /usr/local/lib/python3.6/site-packages/tensorflow/python/ops/init_ops.py:1251: calling VarianceScaling.__init__ (from tensorflow.python.ops.init_ops) with dtype is deprecated and will be removed in a future version.\n",
      "Instructions for updating:\n",
      "Call initializer instance with the dtype argument instead of passing it to the constructor\n",
      "W0717 00:27:16.087903 140735512384384 deprecation_wrapper.py:119] From /Users/williamwright/Google Drive/ucd_math_backup/Python/MNIST_CNN/TrainCNN_quick.py:68: The name tf.nn.max_pool is deprecated. Please use tf.nn.max_pool2d instead.\n",
      "\n",
      "W0717 00:27:16.096141 140735512384384 deprecation.py:323] From /Users/williamwright/Google Drive/ucd_math_backup/Python/MNIST_CNN/TrainCNN_quick.py:72: dense (from tensorflow.python.layers.core) is deprecated and will be removed in a future version.\n",
      "Instructions for updating:\n",
      "Use keras.layers.dense instead.\n",
      "W0717 00:27:16.776479 140735512384384 deprecation_wrapper.py:119] From /Users/williamwright/Google Drive/ucd_math_backup/Python/MNIST_CNN/TrainCNN_quick.py:81: The name tf.train.AdamOptimizer is deprecated. Please use tf.compat.v1.train.AdamOptimizer instead.\n",
      "\n",
      "W0717 00:27:17.034095 140735512384384 deprecation_wrapper.py:119] From /Users/williamwright/Google Drive/ucd_math_backup/Python/MNIST_CNN/TrainCNN_quick.py:89: The name tf.global_variables_initializer is deprecated. Please use tf.compat.v1.global_variables_initializer instead.\n",
      "\n",
      "W0717 00:27:17.039568 140735512384384 deprecation_wrapper.py:119] From /Users/williamwright/Google Drive/ucd_math_backup/Python/MNIST_CNN/TrainCNN_quick.py:90: The name tf.train.Saver is deprecated. Please use tf.compat.v1.train.Saver instead.\n",
      "\n",
      "W0717 00:27:17.103507 140735512384384 deprecation_wrapper.py:119] From /Users/williamwright/Google Drive/ucd_math_backup/Python/MNIST_CNN/TrainCNN_quick.py:95: The name tf.Session is deprecated. Please use tf.compat.v1.Session instead.\n",
      "\n"
     ]
    },
    {
     "name": "stdout",
     "output_type": "stream",
     "text": [
      "Epoch 0 Last batch accuracy: 0.97 Test accuracy: 0.9767\n",
      "Epoch 1 Last batch accuracy: 0.99 Test accuracy: 0.9829\n",
      "Epoch 2 Last batch accuracy: 0.99 Test accuracy: 0.9832\n",
      "Epoch 3 Last batch accuracy: 0.97 Test accuracy: 0.9872\n",
      "Epoch 4 Last batch accuracy: 1.0 Test accuracy: 0.9844\n",
      "Epoch 5 Last batch accuracy: 1.0 Test accuracy: 0.9856\n",
      "Epoch 6 Last batch accuracy: 0.99 Test accuracy: 0.986\n",
      "Epoch 7 Last batch accuracy: 1.0 Test accuracy: 0.9887\n",
      "Epoch 8 Last batch accuracy: 1.0 Test accuracy: 0.9866\n",
      "Epoch 9 Last batch accuracy: 1.0 Test accuracy: 0.9878\n"
     ]
    }
   ],
   "source": [
    "TrainCNN_quick()"
   ]
  },
  {
   "cell_type": "code",
   "execution_count": null,
   "metadata": {},
   "outputs": [],
   "source": []
  }
 ],
 "metadata": {
  "kernelspec": {
   "display_name": "Python 3",
   "language": "python",
   "name": "python3"
  },
  "language_info": {
   "codemirror_mode": {
    "name": "ipython",
    "version": 3
   },
   "file_extension": ".py",
   "mimetype": "text/x-python",
   "name": "python",
   "nbconvert_exporter": "python",
   "pygments_lexer": "ipython3",
   "version": "3.6.5"
  }
 },
 "nbformat": 4,
 "nbformat_minor": 2
}
