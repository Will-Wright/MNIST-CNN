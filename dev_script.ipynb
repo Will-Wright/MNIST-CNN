{
 "cells": [
  {
   "cell_type": "code",
   "execution_count": 1,
   "metadata": {},
   "outputs": [],
   "source": [
    "from TrainCNN import TrainCNN"
   ]
  },
  {
   "cell_type": "code",
   "execution_count": null,
   "metadata": {},
   "outputs": [
    {
     "name": "stderr",
     "output_type": "stream",
     "text": [
      "WARNING: Logging before flag parsing goes to stderr.\n",
      "W0716 23:10:38.098030 140735512384384 deprecation_wrapper.py:119] From /Users/williamwright/Google Drive/ucd_math_backup/Python/MNIST_CNN/TrainCNN.py:11: The name tf.reset_default_graph is deprecated. Please use tf.compat.v1.reset_default_graph instead.\n",
      "\n",
      "W0716 23:10:38.100367 140735512384384 deprecation_wrapper.py:119] From /Users/williamwright/Google Drive/ucd_math_backup/Python/MNIST_CNN/TrainCNN.py:12: The name tf.set_random_seed is deprecated. Please use tf.compat.v1.set_random_seed instead.\n",
      "\n",
      "W0716 23:10:38.169113 140735512384384 deprecation_wrapper.py:119] From /Users/williamwright/Google Drive/ucd_math_backup/Python/MNIST_CNN/TrainCNN.py:59: The name tf.placeholder is deprecated. Please use tf.compat.v1.placeholder instead.\n",
      "\n",
      "W0716 23:10:38.200659 140735512384384 deprecation_wrapper.py:119] From /Users/williamwright/Google Drive/ucd_math_backup/Python/MNIST_CNN/TrainCNN.py:62: The name tf.placeholder_with_default is deprecated. Please use tf.compat.v1.placeholder_with_default instead.\n",
      "\n",
      "W0716 23:10:38.210474 140735512384384 deprecation.py:323] From /Users/williamwright/Google Drive/ucd_math_backup/Python/MNIST_CNN/TrainCNN.py:66: conv2d (from tensorflow.python.layers.convolutional) is deprecated and will be removed in a future version.\n",
      "Instructions for updating:\n",
      "Use `tf.keras.layers.Conv2D` instead.\n",
      "W0716 23:10:38.225545 140735512384384 deprecation.py:506] From /usr/local/lib/python3.6/site-packages/tensorflow/python/ops/init_ops.py:1251: calling VarianceScaling.__init__ (from tensorflow.python.ops.init_ops) with dtype is deprecated and will be removed in a future version.\n",
      "Instructions for updating:\n",
      "Call initializer instance with the dtype argument instead of passing it to the constructor\n",
      "W0716 23:10:38.770088 140735512384384 deprecation_wrapper.py:119] From /Users/williamwright/Google Drive/ucd_math_backup/Python/MNIST_CNN/TrainCNN.py:72: The name tf.nn.max_pool is deprecated. Please use tf.nn.max_pool2d instead.\n",
      "\n",
      "W0716 23:10:38.779376 140735512384384 deprecation.py:323] From /Users/williamwright/Google Drive/ucd_math_backup/Python/MNIST_CNN/TrainCNN.py:74: dropout (from tensorflow.python.layers.core) is deprecated and will be removed in a future version.\n",
      "Instructions for updating:\n",
      "Use keras.layers.dropout instead.\n",
      "W0716 23:10:38.941895 140735512384384 deprecation.py:323] From /Users/williamwright/Google Drive/ucd_math_backup/Python/MNIST_CNN/TrainCNN.py:77: dense (from tensorflow.python.layers.core) is deprecated and will be removed in a future version.\n",
      "Instructions for updating:\n",
      "Use keras.layers.dense instead.\n",
      "W0716 23:10:39.660444 140735512384384 deprecation_wrapper.py:119] From /Users/williamwright/Google Drive/ucd_math_backup/Python/MNIST_CNN/TrainCNN.py:87: The name tf.train.AdamOptimizer is deprecated. Please use tf.compat.v1.train.AdamOptimizer instead.\n",
      "\n",
      "W0716 23:10:40.094779 140735512384384 deprecation_wrapper.py:119] From /Users/williamwright/Google Drive/ucd_math_backup/Python/MNIST_CNN/TrainCNN.py:95: The name tf.global_variables_initializer is deprecated. Please use tf.compat.v1.global_variables_initializer instead.\n",
      "\n",
      "W0716 23:10:40.099485 140735512384384 deprecation_wrapper.py:119] From /Users/williamwright/Google Drive/ucd_math_backup/Python/MNIST_CNN/TrainCNN.py:96: The name tf.train.Saver is deprecated. Please use tf.compat.v1.train.Saver instead.\n",
      "\n"
     ]
    },
    {
     "name": "stdout",
     "output_type": "stream",
     "text": [
      "Epoch 0, last batch accuracy: 100.0000%, valid. accuracy: 98.1800%, valid. best loss: 0.055883\n",
      "Epoch 1, last batch accuracy: 98.0000%, valid. accuracy: 98.8400%, valid. best loss: 0.047431\n",
      "Epoch 2, last batch accuracy: 100.0000%, valid. accuracy: 98.6200%, valid. best loss: 0.040835\n",
      "Epoch 3, last batch accuracy: 100.0000%, valid. accuracy: 98.8600%, valid. best loss: 0.032635\n",
      "Epoch 4, last batch accuracy: 100.0000%, valid. accuracy: 98.7000%, valid. best loss: 0.032635\n",
      "Epoch 5, last batch accuracy: 100.0000%, valid. accuracy: 99.0200%, valid. best loss: 0.032635\n",
      "Epoch 6, last batch accuracy: 100.0000%, valid. accuracy: 99.0400%, valid. best loss: 0.032635\n",
      "Epoch 7, last batch accuracy: 100.0000%, valid. accuracy: 99.0000%, valid. best loss: 0.032635\n",
      "Epoch 8, last batch accuracy: 100.0000%, valid. accuracy: 99.0000%, valid. best loss: 0.032635\n",
      "Epoch 9, last batch accuracy: 100.0000%, valid. accuracy: 98.9400%, valid. best loss: 0.032635\n",
      "Epoch 10, last batch accuracy: 100.0000%, valid. accuracy: 99.1800%, valid. best loss: 0.032635\n",
      "Epoch 11, last batch accuracy: 100.0000%, valid. accuracy: 98.9600%, valid. best loss: 0.032635\n"
     ]
    }
   ],
   "source": [
    "TrainCNN()"
   ]
  },
  {
   "cell_type": "code",
   "execution_count": null,
   "metadata": {},
   "outputs": [],
   "source": []
  }
 ],
 "metadata": {
  "kernelspec": {
   "display_name": "Python 3",
   "language": "python",
   "name": "python3"
  },
  "language_info": {
   "codemirror_mode": {
    "name": "ipython",
    "version": 3
   },
   "file_extension": ".py",
   "mimetype": "text/x-python",
   "name": "python",
   "nbconvert_exporter": "python",
   "pygments_lexer": "ipython3",
   "version": "3.6.5"
  }
 },
 "nbformat": 4,
 "nbformat_minor": 2
}
